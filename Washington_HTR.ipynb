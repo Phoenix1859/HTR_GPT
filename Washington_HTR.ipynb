{
  "cells": [
    {
      "cell_type": "code",
      "execution_count": 1,
      "metadata": {
        "colab": {
          "base_uri": "https://localhost:8080/"
        },
        "id": "KussUbmPt5gv",
        "outputId": "6c76f03d-7e1e-4559-b782-ec3fb514a126"
      },
      "outputs": [
        {
          "name": "stdout",
          "output_type": "stream",
          "text": [
            "Mounted at ./gdrive\n",
            "/content/gdrive/My Drive/handwritten-text-recognition/src\n",
            "total 668\n",
            "-rw------- 1 root root 192449 Apr 30 15:36 after_gpt.csv\n",
            "-rw------- 1 root root 226549 Apr 30 17:16 after-gpt-iam.csv\n",
            "-rw------- 1 root root    186 Apr 30 20:48 after-gpt-iam.gsheet\n",
            "-rw------- 1 root root  22047 May  1 00:32 after_gpt-washington.csv\n",
            "drwx------ 2 root root   4096 Apr 28 07:37 data\n",
            "-rw------- 1 root root 173327 May  1 07:22 iam-test.csv\n",
            "drwx------ 2 root root   4096 Apr 28 07:37 language\n",
            "-rw------- 1 root root  11491 Apr 27 14:48 main.py\n",
            "drwx------ 2 root root   4096 Apr 28 07:37 network\n",
            "-rw------- 1 root root  13576 May  1 07:34 test.csv\n",
            "-rw------- 1 root root  16178 Apr 27 14:48 tutorial.ipynb\n",
            "-rw------- 1 root root  13576 May  1 07:43 washington-test.csv\n"
          ]
        }
      ],
      "source": [
        "from google.colab import drive\n",
        "\n",
        "drive.mount(\"./gdrive\", force_remount=True)\n",
        "\n",
        "%cd \"./gdrive/My Drive/handwritten-text-recognition/src/\"\n",
        "!ls -l\n"
      ]
    },
    {
      "cell_type": "code",
      "execution_count": 2,
      "metadata": {
        "colab": {
          "base_uri": "https://localhost:8080/"
        },
        "id": "tRBaunCft92_",
        "outputId": "6ef814f0-6fca-459b-f685-efb836a217cb"
      },
      "outputs": [
        {
          "name": "stdout",
          "output_type": "stream",
          "text": [
            "source: ../data/washington.hdf5\n",
            "output ../output/washington/flor\n",
            "target ../output/washington/flor/checkpoint_weights.hdf5\n",
            "charset: 0123456789abcdefghijklmnopqrstuvwxyzABCDEFGHIJKLMNOPQRSTUVWXYZ!\"#$%&'()*+,-./:;<=>?@[\\]^_`{|}~ \n"
          ]
        }
      ],
      "source": [
        "import os\n",
        "import datetime\n",
        "import string\n",
        "\n",
        "# define parameters\n",
        "source = \"washington\"\n",
        "arch = \"flor\"\n",
        "epochs = 300\n",
        "batch_size = 16\n",
        "\n",
        "# define paths\n",
        "source_path = os.path.join(\"..\", \"data\", f\"{source}.hdf5\")\n",
        "output_path = os.path.join(\"..\", \"output\", source, arch)\n",
        "target_path = os.path.join(output_path, \"checkpoint_weights.hdf5\")\n",
        "os.makedirs(output_path, exist_ok=True)\n",
        "\n",
        "# define input size, number max of chars per line and list of valid chars\n",
        "input_size = (1024, 128, 1)\n",
        "max_text_length = 128\n",
        "charset_base = string.printable[:95]\n",
        "\n",
        "print(\"source:\", source_path)\n",
        "print(\"output\", output_path)\n",
        "print(\"target\", target_path)\n",
        "print(\"charset:\", charset_base)\n"
      ]
    },
    {
      "cell_type": "code",
      "execution_count": 3,
      "metadata": {
        "colab": {
          "base_uri": "https://localhost:8080/"
        },
        "id": "li5yfjcEt_jQ",
        "outputId": "fb8439ed-ae94-4765-d551-2e3f1ae9c400"
      },
      "outputs": [
        {
          "name": "stdout",
          "output_type": "stream",
          "text": [
            "Train images: 325\n",
            "Validation images: 168\n",
            "Test images: 163\n"
          ]
        }
      ],
      "source": [
        "from data.generator import DataGenerator\n",
        "\n",
        "dtgen = DataGenerator(source=source_path,\n",
        "                      batch_size=batch_size,\n",
        "                      charset=charset_base,\n",
        "                      max_text_length=max_text_length)\n",
        "\n",
        "print(f\"Train images: {dtgen.size['train']}\")\n",
        "print(f\"Validation images: {dtgen.size['valid']}\")\n",
        "print(f\"Test images: {dtgen.size['test']}\")\n"
      ]
    },
    {
      "cell_type": "code",
      "execution_count": 4,
      "metadata": {
        "colab": {
          "base_uri": "https://localhost:8080/"
        },
        "id": "jhDPH7jwuHF_",
        "outputId": "17793600-0e76-4b72-8421-4079afbeb78a"
      },
      "outputs": [
        {
          "name": "stdout",
          "output_type": "stream",
          "text": [
            "Model: \"model\"\n",
            "_________________________________________________________________\n",
            " Layer (type)                Output Shape              Param #   \n",
            "=================================================================\n",
            " input (InputLayer)          [(None, 1024, 128, 1)]    0         \n",
            "                                                                 \n",
            " conv2d (Conv2D)             (None, 512, 64, 16)       160       \n",
            "                                                                 \n",
            " p_re_lu (PReLU)             (None, 512, 64, 16)       16        \n",
            "                                                                 \n",
            " batch_normalization (BatchN  (None, 512, 64, 16)      112       \n",
            " ormalization)                                                   \n",
            "                                                                 \n",
            " full_gated_conv2d (FullGate  (None, 512, 64, 16)      4640      \n",
            " dConv2D)                                                        \n",
            "                                                                 \n",
            " conv2d_1 (Conv2D)           (None, 512, 64, 32)       4640      \n",
            "                                                                 \n",
            " p_re_lu_1 (PReLU)           (None, 512, 64, 32)       32        \n",
            "                                                                 \n",
            " batch_normalization_1 (Batc  (None, 512, 64, 32)      224       \n",
            " hNormalization)                                                 \n",
            "                                                                 \n",
            " full_gated_conv2d_1 (FullGa  (None, 512, 64, 32)      18496     \n",
            " tedConv2D)                                                      \n",
            "                                                                 \n",
            " conv2d_2 (Conv2D)           (None, 256, 16, 40)       10280     \n",
            "                                                                 \n",
            " p_re_lu_2 (PReLU)           (None, 256, 16, 40)       40        \n",
            "                                                                 \n",
            " batch_normalization_2 (Batc  (None, 256, 16, 40)      280       \n",
            " hNormalization)                                                 \n",
            "                                                                 \n",
            " full_gated_conv2d_2 (FullGa  (None, 256, 16, 40)      28880     \n",
            " tedConv2D)                                                      \n",
            "                                                                 \n",
            " dropout (Dropout)           (None, 256, 16, 40)       0         \n",
            "                                                                 \n",
            " conv2d_3 (Conv2D)           (None, 256, 16, 48)       17328     \n",
            "                                                                 \n",
            " p_re_lu_3 (PReLU)           (None, 256, 16, 48)       48        \n",
            "                                                                 \n",
            " batch_normalization_3 (Batc  (None, 256, 16, 48)      336       \n",
            " hNormalization)                                                 \n",
            "                                                                 \n",
            " full_gated_conv2d_3 (FullGa  (None, 256, 16, 48)      41568     \n",
            " tedConv2D)                                                      \n",
            "                                                                 \n",
            " dropout_1 (Dropout)         (None, 256, 16, 48)       0         \n",
            "                                                                 \n",
            " conv2d_4 (Conv2D)           (None, 128, 4, 56)        21560     \n",
            "                                                                 \n",
            " p_re_lu_4 (PReLU)           (None, 128, 4, 56)        56        \n",
            "                                                                 \n",
            " batch_normalization_4 (Batc  (None, 128, 4, 56)       392       \n",
            " hNormalization)                                                 \n",
            "                                                                 \n",
            " full_gated_conv2d_4 (FullGa  (None, 128, 4, 56)       56560     \n",
            " tedConv2D)                                                      \n",
            "                                                                 \n",
            " dropout_2 (Dropout)         (None, 128, 4, 56)        0         \n",
            "                                                                 \n",
            " conv2d_5 (Conv2D)           (None, 128, 4, 64)        32320     \n",
            "                                                                 \n",
            " p_re_lu_5 (PReLU)           (None, 128, 4, 64)        64        \n",
            "                                                                 \n",
            " batch_normalization_5 (Batc  (None, 128, 4, 64)       448       \n",
            " hNormalization)                                                 \n",
            "                                                                 \n",
            " max_pooling2d (MaxPooling2D  (None, 128, 2, 64)       0         \n",
            " )                                                               \n",
            "                                                                 \n",
            " reshape (Reshape)           (None, 128, 128)          0         \n",
            "                                                                 \n",
            " bidirectional (Bidirectiona  (None, 128, 256)         198144    \n",
            " l)                                                              \n",
            "                                                                 \n",
            " dense (Dense)               (None, 128, 256)          65792     \n",
            "                                                                 \n",
            " bidirectional_1 (Bidirectio  (None, 128, 256)         296448    \n",
            " nal)                                                            \n",
            "                                                                 \n",
            " dense_1 (Dense)             (None, 128, 98)           25186     \n",
            "                                                                 \n",
            "=================================================================\n",
            "Total params: 824,050\n",
            "Trainable params: 822,770\n",
            "Non-trainable params: 1,280\n",
            "_________________________________________________________________\n"
          ]
        }
      ],
      "source": [
        "from network.model import HTRModel\n",
        "\n",
        "# create and compile HTRModel\n",
        "model = HTRModel(architecture=arch,\n",
        "                 input_size=input_size,\n",
        "                 vocab_size=dtgen.tokenizer.vocab_size,\n",
        "                 beam_width=10,\n",
        "                 stop_tolerance=20,\n",
        "                 reduce_tolerance=15,\n",
        "                 reduce_factor=0.1)\n",
        "\n",
        "model.compile(learning_rate=0.001)\n",
        "model.summary(output_path, \"summary.txt\")\n",
        "\n",
        "# get default callbacks and load checkpoint weights file (HDF5) if exists\n",
        "model.load_checkpoint(target=target_path)\n",
        "\n",
        "callbacks = model.get_callbacks(logdir=output_path, checkpoint=target_path, verbose=1)\n"
      ]
    },
    {
      "cell_type": "code",
      "execution_count": 5,
      "metadata": {
        "id": "IZ02U5O3uK82"
      },
      "outputs": [],
      "source": [
        "#Used for training\n",
        "# # to calculate total and average time per epoch\n",
        "# start_time = datetime.datetime.now()\n",
        "\n",
        "# h = model.fit(x=dtgen.next_train_batch(),\n",
        "#               epochs=epochs,\n",
        "#               steps_per_epoch=dtgen.steps['train'],\n",
        "#               validation_data=dtgen.next_valid_batch(),\n",
        "#               validation_steps=dtgen.steps['valid'],\n",
        "#               callbacks=callbacks,\n",
        "#               shuffle=True,\n",
        "#               verbose=1)\n",
        "\n",
        "# total_time = datetime.datetime.now() - start_time\n",
        "\n",
        "# loss = h.history['loss']\n",
        "# val_loss = h.history['val_loss']\n",
        "\n",
        "# min_val_loss = min(val_loss)\n",
        "# min_val_loss_i = val_loss.index(min_val_loss)\n",
        "\n",
        "# time_epoch = (total_time / len(loss))\n",
        "# total_item = (dtgen.size['train'] + dtgen.size['valid'])\n",
        "\n",
        "# t_corpus = \"\\n\".join([\n",
        "#     f\"Total train images:      {dtgen.size['train']}\",\n",
        "#     f\"Total validation images: {dtgen.size['valid']}\",\n",
        "#     f\"Batch:                   {dtgen.batch_size}\\n\",\n",
        "#     f\"Total time:              {total_time}\",\n",
        "#     f\"Time per epoch:          {time_epoch}\",\n",
        "#     f\"Time per item:           {time_epoch / total_item}\\n\",\n",
        "#     f\"Total epochs:            {len(loss)}\",\n",
        "#     f\"Best epoch               {min_val_loss_i + 1}\\n\",\n",
        "#     f\"Training loss:           {loss[min_val_loss_i]:.8f}\",\n",
        "#     f\"Validation loss:         {min_val_loss:.8f}\"\n",
        "# ])\n",
        "\n",
        "# with open(os.path.join(output_path, \"train.txt\"), \"w\") as lg:\n",
        "#     lg.write(t_corpus)\n",
        "#     print(t_corpus)\n"
      ]
    },
    {
      "cell_type": "code",
      "execution_count": 6,
      "metadata": {
        "colab": {
          "base_uri": "https://localhost:8080/",
          "height": 1000
        },
        "id": "FS74NvFYvsV_",
        "outputId": "65b8cdfb-61b0-4b45-d42b-6cb7ca0abc89"
      },
      "outputs": [
        {
          "name": "stdout",
          "output_type": "stream",
          "text": [
            "Model Predict\n",
            "11/11 [==============================] - 23s 2s/step\n",
            "CTC Decode\n",
            " 1/11 [=>............................] - ETA: 12s"
          ]
        },
        {
          "name": "stderr",
          "output_type": "stream",
          "text": [
            "/usr/local/lib/python3.10/dist-packages/numpy/core/fromnumeric.py:43: VisibleDeprecationWarning: Creating an ndarray from ragged nested sequences (which is a list-or-tuple of lists-or-tuples-or ndarrays with different lengths or shapes) is deprecated. If you meant to do this, you must specify 'dtype=object' when creating the ndarray.\n",
            "  result = getattr(asarray(obj), method)(*args, **kwds)\n"
          ]
        },
        {
          "name": "stdout",
          "output_type": "stream",
          "text": [
            "11/11 [==============================] - 13s 1s/step\n",
            "================================================================================================================================================================================================================================================================================================================================================================================================================================================================================================================================================================================================================================================================================================================================================================================================================================================================================================================================================================================================================================================================ \n",
            "\n"
          ]
        },
        {
          "data": {
            "image/png": "[encoded data removed]",
            "text/plain": [
              "<PIL.Image.Image image mode=L size=1024x128 at 0x7FEF56521D50>"
            ]
          },
          "metadata": {},
          "output_type": "display_data"
        },
        {
          "name": "stdout",
          "output_type": "stream",
          "text": [
            "p.305\n",
            "h. ger. \n",
            "\n",
            "================================================================================================================================================================================================================================================================================================================================================================================================================================================================================================================================================================================================================================================================================================================================================================================================================================================================================================================================================================================================================================================================ \n",
            "\n"
          ]
        },
        {
          "data": {
            "image/png": "[encoded data removed]",
            "text/plain": [
              "<PIL.Image.Image image mode=L size=1024x128 at 0x7FEFCC323A60>"
            ]
          },
          "metadata": {},
          "output_type": "display_data"
        },
        {
          "name": "stdout",
          "output_type": "stream",
          "text": [
            "Letters Orders and Instructions. December 1755.\n",
            "Letters Orders and Instructions. December 1755. \n",
            "\n",
            "================================================================================================================================================================================================================================================================================================================================================================================================================================================================================================================================================================================================================================================================================================================================================================================================================================================================================================================================================================================================================================================================ \n",
            "\n"
          ]
        },
        {
          "data": {
            "image/png": "[encoded data removed]",
            "text/plain": [
              "<PIL.Image.Image image mode=L size=1024x128 at 0x7FEF56521000>"
            ]
          },
          "metadata": {},
          "output_type": "display_data"
        },
        {
          "name": "stdout",
          "output_type": "stream",
          "text": [
            "to go to a place where I am to be commanded\n",
            "to go to a place where I am to be commanded \n",
            "\n",
            "================================================================================================================================================================================================================================================================================================================================================================================================================================================================================================================================================================================================================================================================================================================================================================================================================================================================================================================================================================================================================================================================ \n",
            "\n"
          ]
        },
        {
          "data": {
            "image/png": "[encoded data removed]",
            "text/plain": [
              "<PIL.Image.Image image mode=L size=1024x128 at 0x7FEF56521D50>"
            ]
          },
          "metadata": {},
          "output_type": "display_data"
        },
        {
          "name": "stdout",
          "output_type": "stream",
          "text": [
            "and directed by another, who can have no\n",
            "and directed by andther, who can have no \n",
            "\n",
            "================================================================================================================================================================================================================================================================================================================================================================================================================================================================================================================================================================================================================================================================================================================================================================================================================================================================================================================================================================================================================================================================ \n",
            "\n"
          ]
        },
        {
          "data": {
            "image/png": "[encoded data removed]",
            "text/plain": [
              "<PIL.Image.Image image mode=L size=1024x128 at 0x7FEF56521D50>"
            ]
          },
          "metadata": {},
          "output_type": "display_data"
        },
        {
          "name": "stdout",
          "output_type": "stream",
          "text": [
            "other pretence, than that of having a commis-\n",
            "other pretence, than th at of having a Commis \n",
            "\n",
            "================================================================================================================================================================================================================================================================================================================================================================================================================================================================================================================================================================================================================================================================================================================================================================================================================================================================================================================================================================================================================================================================ \n",
            "\n"
          ]
        },
        {
          "data": {
            "image/png": "[encoded data removed]",
            "text/plain": [
              "<PIL.Image.Image image mode=L size=1024x128 at 0x7FEF56521D50>"
            ]
          },
          "metadata": {},
          "output_type": "display_data"
        },
        {
          "name": "stdout",
          "output_type": "stream",
          "text": [
            "sion from the King.\n",
            "sion from the Wing. \n",
            "\n",
            "================================================================================================================================================================================================================================================================================================================================================================================================================================================================================================================================================================================================================================================================================================================================================================================================================================================================================================================================================================================================================================================================ \n",
            "\n"
          ]
        },
        {
          "data": {
            "image/png": "[encoded data removed]",
            "text/plain": [
              "<PIL.Image.Image image mode=L size=1024x128 at 0x7FEF56521000>"
            ]
          },
          "metadata": {},
          "output_type": "display_data"
        },
        {
          "name": "stdout",
          "output_type": "stream",
          "text": [
            "We shall suffer very greatly in a little\n",
            "We shall suffer very greatly in a Little \n",
            "\n",
            "================================================================================================================================================================================================================================================================================================================================================================================================================================================================================================================================================================================================================================================================================================================================================================================================================================================================================================================================================================================================================================================================ \n",
            "\n"
          ]
        },
        {
          "data": {
            "image/png": "[encoded data removed]",
            "text/plain": [
              "<PIL.Image.Image image mode=L size=1024x128 at 0x7FEFCC3235B0>"
            ]
          },
          "metadata": {},
          "output_type": "display_data"
        },
        {
          "name": "stdout",
          "output_type": "stream",
          "text": [
            "time, for want of Clothing for the Soldiers; and none\n",
            "time, for want of Closhing for the Soldier; and none \n",
            "\n",
            "================================================================================================================================================================================================================================================================================================================================================================================================================================================================================================================================================================================================================================================================================================================================================================================================================================================================================================================================================================================================================================================================ \n",
            "\n"
          ]
        },
        {
          "data": {
            "image/png": "[encoded data removed]",
            "text/plain": [
              "<PIL.Image.Image image mode=L size=1024x128 at 0x7FEF56564A30>"
            ]
          },
          "metadata": {},
          "output_type": "display_data"
        },
        {
          "name": "stdout",
          "output_type": "stream",
          "text": [
            "can be had here, nor in short, I believe in the\n",
            "can be had here, nor in Short, S believe in the \n",
            "\n",
            "================================================================================================================================================================================================================================================================================================================================================================================================================================================================================================================================================================================================================================================================================================================================================================================================================================================================================================================================================================================================================================================================ \n",
            "\n"
          ]
        },
        {
          "data": {
            "image/png": "[encoded data removed]",
            "text/plain": [
              "<PIL.Image.Image image mode=L size=1024x128 at 0x7FEFCC3235E0>"
            ]
          },
          "metadata": {},
          "output_type": "display_data"
        },
        {
          "name": "stdout",
          "output_type": "stream",
          "text": [
            "Country. Those which Carlyle and Dalton con-\n",
            "Country. Those which Carlyle and Balton con- \n",
            "\n"
          ]
        }
      ],
      "source": [
        "from data import preproc as pp\n",
        "from google.colab.patches import cv2_imshow\n",
        "\n",
        "start_time = datetime.datetime.now()\n",
        "\n",
        "# predict() function will return the predicts with the probabilities\n",
        "predicts, _ = model.predict(x=dtgen.next_test_batch(),\n",
        "                            steps=dtgen.steps['test'],\n",
        "                            ctc_decode=True,\n",
        "                            verbose=1)\n",
        "\n",
        "# decode to string\n",
        "predicts = [dtgen.tokenizer.decode(x[0]) for x in predicts]\n",
        "ground_truth = [x.decode() for x in dtgen.dataset['test']['gt']]\n",
        "\n",
        "total_time = datetime.datetime.now() - start_time\n",
        "\n",
        "# mount predict corpus file\n",
        "with open(os.path.join(output_path, \"predict.txt\"), \"w\") as lg:\n",
        "    for pd, gt in zip(predicts, ground_truth):\n",
        "        lg.write(f\"TE_L {gt}\\nTE_P {pd}\\n\")\n",
        "   \n",
        "for i, item in enumerate(dtgen.dataset['test']['dt'][:10]):\n",
        "    print(\"=\" * 1024, \"\\n\")\n",
        "    cv2_imshow(pp.adjust_to_see(item))\n",
        "    print(ground_truth[i])\n",
        "    print(predicts[i], \"\\n\")\n"
      ]
    },
    {
      "cell_type": "code",
      "execution_count": 7,
      "metadata": {
        "colab": {
          "base_uri": "https://localhost:8080/"
        },
        "id": "cP_62jHN31Ru",
        "outputId": "d607afd8-ce5c-4fc4-dc77-7f3552d3991a"
      },
      "outputs": [
        {
          "name": "stdout",
          "output_type": "stream",
          "text": [
            "Total test images:    163\n",
            "Total time:           0:00:56.017331\n",
            "Time per item:        0:00:00.343665\n",
            "\n",
            "Metrics:\n",
            "Character Error Rate: 0.08187933\n",
            "Word Error Rate:      0.25846856\n",
            "Sequence Error Rate:  0.79754601\n"
          ]
        }
      ],
      "source": [
        "from data import evaluation\n",
        "\n",
        "evaluate = evaluation.ocr_metrics(predicts, ground_truth, norm_accentuation=True, norm_punctuation=True)\n",
        "\n",
        "e_corpus = \"\\n\".join([\n",
        "    f\"Total test images:    {dtgen.size['test']}\",\n",
        "    f\"Total time:           {total_time}\",\n",
        "    f\"Time per item:        {total_time / dtgen.size['test']}\\n\",\n",
        "    f\"Metrics:\",\n",
        "    f\"Character Error Rate: {evaluate[0]:.8f}\",\n",
        "    f\"Word Error Rate:      {evaluate[1]:.8f}\",\n",
        "    f\"Sequence Error Rate:  {evaluate[2]:.8f}\"\n",
        "])\n",
        "\n",
        "with open(os.path.join(output_path, \"evaluate.txt\"), \"w\") as lg:\n",
        "    lg.write(e_corpus)\n",
        "    print(e_corpus)\n"
      ]
    },
    {
      "cell_type": "code",
      "execution_count": 8,
      "metadata": {
        "id": "GB2d4HGEBhvI"
      },
      "outputs": [],
      "source": [
        "import csv\n",
        "with open(\"washington-test.csv\", 'w') as csvfile: \n",
        "  csvwriter = csv.writer(csvfile) \n",
        "  csvwriter.writerow([\"Ground_truth\", \"Prediction\"]) \n",
        "  for i, item in enumerate(dtgen.dataset['test']['dt']):\n",
        "    l = [ground_truth[i], predicts[i]]\n",
        "    csvwriter.writerow(l)\n",
        "    "
      ]
    },
    {
      "cell_type": "code",
      "execution_count": 9,
      "metadata": {
        "colab": {
          "base_uri": "https://localhost:8080/"
        },
        "id": "pFBnSL5V6HIy",
        "outputId": "058e1f79-6335-4ff5-db3e-c8b72f54a2b4"
      },
      "outputs": [
        {
          "name": "stdout",
          "output_type": "stream",
          "text": [
            "Looking in indexes: https://pypi.org/simple, https://us-python.pkg.dev/colab-wheels/public/simple/\n",
            "Collecting langchain\n",
            "  Downloading langchain-0.0.154-py3-none-any.whl (709 kB)\n",
            "\u001b[2K     \u001b[90m━━━━━━━━━━━━━━━━━━━━━━━━━━━━━━━━━━━━━━\u001b[0m \u001b[32m709.9/709.9 kB\u001b[0m \u001b[31m31.0 MB/s\u001b[0m eta \u001b[36m0:00:00\u001b[0m\n",
            "\u001b[?25hRequirement already satisfied: requests<3,>=2 in /usr/local/lib/python3.10/dist-packages (from langchain) (2.27.1)\n",
            "Requirement already satisfied: tqdm>=4.48.0 in /usr/local/lib/python3.10/dist-packages (from langchain) (4.65.0)\n",
            "Requirement already satisfied: numpy<2,>=1 in /usr/local/lib/python3.10/dist-packages (from langchain) (1.22.4)\n",
            "Collecting async-timeout<5.0.0,>=4.0.0\n",
            "  Downloading async_timeout-4.0.2-py3-none-any.whl (5.8 kB)\n",
            "Collecting openapi-schema-pydantic<2.0,>=1.2\n",
            "  Downloading openapi_schema_pydantic-1.2.4-py3-none-any.whl (90 kB)\n",
            "\u001b[2K     \u001b[90m━━━━━━━━━━━━━━━━━━━━━━━━━━━━━━━━━━━━━━━━\u001b[0m \u001b[32m90.0/90.0 kB\u001b[0m \u001b[31m9.4 MB/s\u001b[0m eta \u001b[36m0:00:00\u001b[0m\n",
            "\u001b[?25hRequirement already satisfied: pydantic<2,>=1 in /usr/local/lib/python3.10/dist-packages (from langchain) (1.10.7)\n",
            "Requirement already satisfied: tenacity<9.0.0,>=8.1.0 in /usr/local/lib/python3.10/dist-packages (from langchain) (8.2.2)\n",
            "Requirement already satisfied: PyYAML>=5.4.1 in /usr/local/lib/python3.10/dist-packages (from langchain) (6.0)\n",
            "Collecting dataclasses-json<0.6.0,>=0.5.7\n",
            "  Downloading dataclasses_json-0.5.7-py3-none-any.whl (25 kB)\n",
            "Collecting aiohttp<4.0.0,>=3.8.3\n",
            "  Downloading aiohttp-3.8.4-cp310-cp310-manylinux_2_17_x86_64.manylinux2014_x86_64.whl (1.0 MB)\n",
            "\u001b[2K     \u001b[90m━━━━━━━━━━━━━━━━━━━━━━━━━━━━━━━━━━━━━━━━\u001b[0m \u001b[32m1.0/1.0 MB\u001b[0m \u001b[31m46.3 MB/s\u001b[0m eta \u001b[36m0:00:00\u001b[0m\n",
            "\u001b[?25hRequirement already satisfied: numexpr<3.0.0,>=2.8.4 in /usr/local/lib/python3.10/dist-packages (from langchain) (2.8.4)\n",
            "Requirement already satisfied: SQLAlchemy<3,>1.4 in /usr/local/lib/python3.10/dist-packages (from langchain) (2.0.10)\n",
            "Requirement already satisfied: charset-normalizer<4.0,>=2.0 in /usr/local/lib/python3.10/dist-packages (from aiohttp<4.0.0,>=3.8.3->langchain) (2.0.12)\n",
            "Collecting yarl<2.0,>=1.0\n",
            "  Downloading yarl-1.9.2-cp310-cp310-manylinux_2_17_x86_64.manylinux2014_x86_64.whl (268 kB)\n",
            "\u001b[2K     \u001b[90m━━━━━━━━━━━━━━━━━━━━━━━━━━━━━━━━━━━━━━\u001b[0m \u001b[32m268.8/268.8 kB\u001b[0m \u001b[31m23.0 MB/s\u001b[0m eta \u001b[36m0:00:00\u001b[0m\n",
            "\u001b[?25hCollecting multidict<7.0,>=4.5\n",
            "  Downloading multidict-6.0.4-cp310-cp310-manylinux_2_17_x86_64.manylinux2014_x86_64.whl (114 kB)\n",
            "\u001b[2K     \u001b[90m━━━━━━━━━━━━━━━━━━━━━━━━━━━━━━━━━━━━━━\u001b[0m \u001b[32m114.5/114.5 kB\u001b[0m \u001b[31m14.5 MB/s\u001b[0m eta \u001b[36m0:00:00\u001b[0m\n",
            "\u001b[?25hCollecting frozenlist>=1.1.1\n",
            "  Downloading frozenlist-1.3.3-cp310-cp310-manylinux_2_5_x86_64.manylinux1_x86_64.manylinux_2_17_x86_64.manylinux2014_x86_64.whl (149 kB)\n",
            "\u001b[2K     \u001b[90m━━━━━━━━━━━━━━━━━━━━━━━━━━━━━━━━━━━━━━\u001b[0m \u001b[32m149.6/149.6 kB\u001b[0m \u001b[31m16.5 MB/s\u001b[0m eta \u001b[36m0:00:00\u001b[0m\n",
            "\u001b[?25hRequirement already satisfied: attrs>=17.3.0 in /usr/local/lib/python3.10/dist-packages (from aiohttp<4.0.0,>=3.8.3->langchain) (23.1.0)\n",
            "Collecting aiosignal>=1.1.2\n",
            "  Downloading aiosignal-1.3.1-py3-none-any.whl (7.6 kB)\n",
            "Collecting typing-inspect>=0.4.0\n",
            "  Downloading typing_inspect-0.8.0-py3-none-any.whl (8.7 kB)\n",
            "Collecting marshmallow-enum<2.0.0,>=1.5.1\n",
            "  Downloading marshmallow_enum-1.5.1-py2.py3-none-any.whl (4.2 kB)\n",
            "Collecting marshmallow<4.0.0,>=3.3.0\n",
            "  Downloading marshmallow-3.19.0-py3-none-any.whl (49 kB)\n",
            "\u001b[2K     \u001b[90m━━━━━━━━━━━━━━━━━━━━━━━━━━━━━━━━━━━━━━━━\u001b[0m \u001b[32m49.1/49.1 kB\u001b[0m \u001b[31m5.2 MB/s\u001b[0m eta \u001b[36m0:00:00\u001b[0m\n",
            "\u001b[?25hRequirement already satisfied: typing-extensions>=4.2.0 in /usr/local/lib/python3.10/dist-packages (from pydantic<2,>=1->langchain) (4.5.0)\n",
            "Requirement already satisfied: idna<4,>=2.5 in /usr/local/lib/python3.10/dist-packages (from requests<3,>=2->langchain) (3.4)\n",
            "Requirement already satisfied: urllib3<1.27,>=1.21.1 in /usr/local/lib/python3.10/dist-packages (from requests<3,>=2->langchain) (1.26.15)\n",
            "Requirement already satisfied: certifi>=2017.4.17 in /usr/local/lib/python3.10/dist-packages (from requests<3,>=2->langchain) (2022.12.7)\n",
            "Requirement already satisfied: greenlet!=0.4.17 in /usr/local/lib/python3.10/dist-packages (from SQLAlchemy<3,>1.4->langchain) (2.0.2)\n",
            "Requirement already satisfied: packaging>=17.0 in /usr/local/lib/python3.10/dist-packages (from marshmallow<4.0.0,>=3.3.0->dataclasses-json<0.6.0,>=0.5.7->langchain) (23.1)\n",
            "Collecting mypy-extensions>=0.3.0\n",
            "  Downloading mypy_extensions-1.0.0-py3-none-any.whl (4.7 kB)\n",
            "Installing collected packages: mypy-extensions, multidict, marshmallow, frozenlist, async-timeout, yarl, typing-inspect, openapi-schema-pydantic, marshmallow-enum, aiosignal, dataclasses-json, aiohttp, langchain\n",
            "Successfully installed aiohttp-3.8.4 aiosignal-1.3.1 async-timeout-4.0.2 dataclasses-json-0.5.7 frozenlist-1.3.3 langchain-0.0.154 marshmallow-3.19.0 marshmallow-enum-1.5.1 multidict-6.0.4 mypy-extensions-1.0.0 openapi-schema-pydantic-1.2.4 typing-inspect-0.8.0 yarl-1.9.2\n"
          ]
        }
      ],
      "source": [
        "!pip install langchain"
      ]
    },
    {
      "cell_type": "code",
      "execution_count": 10,
      "metadata": {
        "colab": {
          "base_uri": "https://localhost:8080/"
        },
        "id": "C6b0mimJ79Qg",
        "outputId": "8284608c-881b-4e17-9b4b-5be90d57473e"
      },
      "outputs": [
        {
          "name": "stdout",
          "output_type": "stream",
          "text": [
            "Looking in indexes: https://pypi.org/simple, https://us-python.pkg.dev/colab-wheels/public/simple/\n",
            "Collecting openai\n",
            "  Downloading openai-0.27.5-py3-none-any.whl (71 kB)\n",
            "\u001b[2K     \u001b[90m━━━━━━━━━━━━━━━━━━━━━━━━━━━━━━━━━━━━━━━━\u001b[0m \u001b[32m71.6/71.6 kB\u001b[0m \u001b[31m6.0 MB/s\u001b[0m eta \u001b[36m0:00:00\u001b[0m\n",
            "\u001b[?25hRequirement already satisfied: requests>=2.20 in /usr/local/lib/python3.10/dist-packages (from openai) (2.27.1)\n",
            "Requirement already satisfied: tqdm in /usr/local/lib/python3.10/dist-packages (from openai) (4.65.0)\n",
            "Requirement already satisfied: aiohttp in /usr/local/lib/python3.10/dist-packages (from openai) (3.8.4)\n",
            "Requirement already satisfied: urllib3<1.27,>=1.21.1 in /usr/local/lib/python3.10/dist-packages (from requests>=2.20->openai) (1.26.15)\n",
            "Requirement already satisfied: certifi>=2017.4.17 in /usr/local/lib/python3.10/dist-packages (from requests>=2.20->openai) (2022.12.7)\n",
            "Requirement already satisfied: charset-normalizer~=2.0.0 in /usr/local/lib/python3.10/dist-packages (from requests>=2.20->openai) (2.0.12)\n",
            "Requirement already satisfied: idna<4,>=2.5 in /usr/local/lib/python3.10/dist-packages (from requests>=2.20->openai) (3.4)\n",
            "Requirement already satisfied: async-timeout<5.0,>=4.0.0a3 in /usr/local/lib/python3.10/dist-packages (from aiohttp->openai) (4.0.2)\n",
            "Requirement already satisfied: attrs>=17.3.0 in /usr/local/lib/python3.10/dist-packages (from aiohttp->openai) (23.1.0)\n",
            "Requirement already satisfied: aiosignal>=1.1.2 in /usr/local/lib/python3.10/dist-packages (from aiohttp->openai) (1.3.1)\n",
            "Requirement already satisfied: multidict<7.0,>=4.5 in /usr/local/lib/python3.10/dist-packages (from aiohttp->openai) (6.0.4)\n",
            "Requirement already satisfied: frozenlist>=1.1.1 in /usr/local/lib/python3.10/dist-packages (from aiohttp->openai) (1.3.3)\n",
            "Requirement already satisfied: yarl<2.0,>=1.0 in /usr/local/lib/python3.10/dist-packages (from aiohttp->openai) (1.9.2)\n",
            "Installing collected packages: openai\n",
            "Successfully installed openai-0.27.5\n"
          ]
        }
      ],
      "source": [
        "!pip install openai"
      ]
    },
    {
      "cell_type": "code",
      "execution_count": 11,
      "metadata": {
        "colab": {
          "base_uri": "https://localhost:8080/"
        },
        "id": "lRGxPXqr6J5j",
        "outputId": "3989eebb-d087-4b54-eb82-f45122567f46"
      },
      "outputs": [
        {
          "name": "stdout",
          "output_type": "stream",
          "text": [
            "Enter OpenAI API Key: 12345\n"
          ]
        }
      ],
      "source": [
        "from langchain import PromptTemplate, OpenAI, LLMChain\n",
        "import os\n",
        "\n",
        "OPENAI_API_KEY = input(\"Enter OpenAI API Key: \")\n",
        "os.environ[\"OPENAI_API_KEY\"] = OPENAI_API_KEY\n",
        "\n",
        "def gpt_correction(result):\n",
        "    template = \"\"\"You are being fed data from a handwriting text recognition model, you are meant to make sense of the data. Keep in mind the sentences you are fed are not completely correct since the model often makes mistakes between similar looking letters based on the handwriting of the person. You are tasked with correcting any word of the sentence that does not make sense. Do not correct words that make some sense in context to the words around it.:-\n",
        "\n",
        "    Incorrect sentence: {input}\n",
        "\n",
        "    Correct sentence: \n",
        "    \"\"\"\n",
        "    prompt = PromptTemplate(template=template, input_variables=[\"input\"])\n",
        "    llm_chain = LLMChain(prompt=prompt, llm=OpenAI(temperature=0), verbose=False)\n",
        "\n",
        "    result = llm_chain.predict(input = result)\n",
        "    return result\n"
      ]
    },
    {
      "cell_type": "code",
      "execution_count": 12,
      "metadata": {
        "colab": {
          "base_uri": "https://localhost:8080/",
          "height": 206
        },
        "id": "IhJqeXlHmT1V",
        "outputId": "59ef6bda-fef5-4fd2-dcde-4d007bc9577c"
      },
      "outputs": [
        {
          "data": {
            "text/html": [
              "\n",
              "  <div id=\"df-aa938fa9-a384-41f3-9ac0-c606c9ed0dc3\">\n",
              "    <div class=\"colab-df-container\">\n",
              "      <div>\n",
              "<style scoped>\n",
              "    .dataframe tbody tr th:only-of-type {\n",
              "        vertical-align: middle;\n",
              "    }\n",
              "\n",
              "    .dataframe tbody tr th {\n",
              "        vertical-align: top;\n",
              "    }\n",
              "\n",
              "    .dataframe thead th {\n",
              "        text-align: right;\n",
              "    }\n",
              "</style>\n",
              "<table border=\"1\" class=\"dataframe\">\n",
              "  <thead>\n",
              "    <tr style=\"text-align: right;\">\n",
              "      <th></th>\n",
              "      <th>Unnamed: 0</th>\n",
              "      <th>index</th>\n",
              "      <th>Ground_truth</th>\n",
              "      <th>Prediction</th>\n",
              "      <th>trial</th>\n",
              "    </tr>\n",
              "  </thead>\n",
              "  <tbody>\n",
              "    <tr>\n",
              "      <th>0</th>\n",
              "      <td>1</td>\n",
              "      <td>1</td>\n",
              "      <td>Letters Orders and Instructions. December 1755.</td>\n",
              "      <td>Letters Orders and Instructions. December 1755.</td>\n",
              "      <td>\\nLetters, Orders, and Instructions. December ...</td>\n",
              "    </tr>\n",
              "    <tr>\n",
              "      <th>1</th>\n",
              "      <td>2</td>\n",
              "      <td>2</td>\n",
              "      <td>to go to a place where I am to be commanded</td>\n",
              "      <td>to ge to a place where I am to be commanded</td>\n",
              "      <td>\\nTo go to a place where I am to be commanded.</td>\n",
              "    </tr>\n",
              "    <tr>\n",
              "      <th>2</th>\n",
              "      <td>3</td>\n",
              "      <td>3</td>\n",
              "      <td>and directed by another, who can have no</td>\n",
              "      <td>and directed by andther, who can have no</td>\n",
              "      <td>\\nand directed by another, who can have no</td>\n",
              "    </tr>\n",
              "    <tr>\n",
              "      <th>3</th>\n",
              "      <td>4</td>\n",
              "      <td>4</td>\n",
              "      <td>other pretence, than that of having a commis-</td>\n",
              "      <td>other pretence, than that of having a Commis</td>\n",
              "      <td>\\nother pretense, than that of having a Commis...</td>\n",
              "    </tr>\n",
              "    <tr>\n",
              "      <th>4</th>\n",
              "      <td>5</td>\n",
              "      <td>5</td>\n",
              "      <td>sion from the King.</td>\n",
              "      <td>sion from the VFing.</td>\n",
              "      <td>\\n    Decision from the voting.</td>\n",
              "    </tr>\n",
              "  </tbody>\n",
              "</table>\n",
              "</div>\n",
              "      <button class=\"colab-df-convert\" onclick=\"convertToInteractive('df-aa938fa9-a384-41f3-9ac0-c606c9ed0dc3')\"\n",
              "              title=\"Convert this dataframe to an interactive table.\"\n",
              "              style=\"display:none;\">\n",
              "        \n",
              "  <svg xmlns=\"http://www.w3.org/2000/svg\" height=\"24px\"viewBox=\"0 0 24 24\"\n",
              "       width=\"24px\">\n",
              "    <path d=\"M0 0h24v24H0V0z\" fill=\"none\"/>\n",
              "    <path d=\"M18.56 5.44l.94 2.06.94-2.06 2.06-.94-2.06-.94-.94-2.06-.94 2.06-2.06.94zm-11 1L8.5 8.5l.94-2.06 2.06-.94-2.06-.94L8.5 2.5l-.94 2.06-2.06.94zm10 10l.94 2.06.94-2.06 2.06-.94-2.06-.94-.94-2.06-.94 2.06-2.06.94z\"/><path d=\"M17.41 7.96l-1.37-1.37c-.4-.4-.92-.59-1.43-.59-.52 0-1.04.2-1.43.59L10.3 9.45l-7.72 7.72c-.78.78-.78 2.05 0 2.83L4 21.41c.39.39.9.59 1.41.59.51 0 1.02-.2 1.41-.59l7.78-7.78 2.81-2.81c.8-.78.8-2.07 0-2.86zM5.41 20L4 18.59l7.72-7.72 1.47 1.35L5.41 20z\"/>\n",
              "  </svg>\n",
              "      </button>\n",
              "      \n",
              "  <style>\n",
              "    .colab-df-container {\n",
              "      display:flex;\n",
              "      flex-wrap:wrap;\n",
              "      gap: 12px;\n",
              "    }\n",
              "\n",
              "    .colab-df-convert {\n",
              "      background-color: #E8F0FE;\n",
              "      border: none;\n",
              "      border-radius: 50%;\n",
              "      cursor: pointer;\n",
              "      display: none;\n",
              "      fill: #1967D2;\n",
              "      height: 32px;\n",
              "      padding: 0 0 0 0;\n",
              "      width: 32px;\n",
              "    }\n",
              "\n",
              "    .colab-df-convert:hover {\n",
              "      background-color: #E2EBFA;\n",
              "      box-shadow: 0px 1px 2px rgba(60, 64, 67, 0.3), 0px 1px 3px 1px rgba(60, 64, 67, 0.15);\n",
              "      fill: #174EA6;\n",
              "    }\n",
              "\n",
              "    [theme=dark] .colab-df-convert {\n",
              "      background-color: #3B4455;\n",
              "      fill: #D2E3FC;\n",
              "    }\n",
              "\n",
              "    [theme=dark] .colab-df-convert:hover {\n",
              "      background-color: #434B5C;\n",
              "      box-shadow: 0px 1px 3px 1px rgba(0, 0, 0, 0.15);\n",
              "      filter: drop-shadow(0px 1px 2px rgba(0, 0, 0, 0.3));\n",
              "      fill: #FFFFFF;\n",
              "    }\n",
              "  </style>\n",
              "\n",
              "      <script>\n",
              "        const buttonEl =\n",
              "          document.querySelector('#df-aa938fa9-a384-41f3-9ac0-c606c9ed0dc3 button.colab-df-convert');\n",
              "        buttonEl.style.display =\n",
              "          google.colab.kernel.accessAllowed ? 'block' : 'none';\n",
              "\n",
              "        async function convertToInteractive(key) {\n",
              "          const element = document.querySelector('#df-aa938fa9-a384-41f3-9ac0-c606c9ed0dc3');\n",
              "          const dataTable =\n",
              "            await google.colab.kernel.invokeFunction('convertToInteractive',\n",
              "                                                     [key], {});\n",
              "          if (!dataTable) return;\n",
              "\n",
              "          const docLinkHtml = 'Like what you see? Visit the ' +\n",
              "            '<a target=\"_blank\" href=https://colab.research.google.com/notebooks/data_table.ipynb>data table notebook</a>'\n",
              "            + ' to learn more about interactive tables.';\n",
              "          element.innerHTML = '';\n",
              "          dataTable['output_type'] = 'display_data';\n",
              "          await google.colab.output.renderOutput(dataTable, element);\n",
              "          const docLink = document.createElement('div');\n",
              "          docLink.innerHTML = docLinkHtml;\n",
              "          element.appendChild(docLink);\n",
              "        }\n",
              "      </script>\n",
              "    </div>\n",
              "  </div>\n",
              "  "
            ],
            "text/plain": [
              "   Unnamed: 0  index                                     Ground_truth  \\\n",
              "0           1      1  Letters Orders and Instructions. December 1755.   \n",
              "1           2      2      to go to a place where I am to be commanded   \n",
              "2           3      3         and directed by another, who can have no   \n",
              "3           4      4    other pretence, than that of having a commis-   \n",
              "4           5      5                              sion from the King.   \n",
              "\n",
              "                                        Prediction  \\\n",
              "0  Letters Orders and Instructions. December 1755.   \n",
              "1      to ge to a place where I am to be commanded   \n",
              "2         and directed by andther, who can have no   \n",
              "3     other pretence, than that of having a Commis   \n",
              "4                             sion from the VFing.   \n",
              "\n",
              "                                               trial  \n",
              "0  \\nLetters, Orders, and Instructions. December ...  \n",
              "1     \\nTo go to a place where I am to be commanded.  \n",
              "2         \\nand directed by another, who can have no  \n",
              "3  \\nother pretense, than that of having a Commis...  \n",
              "4                    \\n    Decision from the voting.  "
            ]
          },
          "execution_count": 12,
          "metadata": {},
          "output_type": "execute_result"
        }
      ],
      "source": [
        "#trial contains the data after GPT post-processing\n",
        "import pandas as pd\n",
        "df = pd.read_csv(\"after_gpt-washington.csv\") \n",
        "df.head()"
      ]
    },
    {
      "cell_type": "code",
      "execution_count": 13,
      "metadata": {
        "id": "LWPuGQ666QD-"
      },
      "outputs": [],
      "source": [
        "# Uncomment to re-evaluate GPT responses\n",
        "\n",
        "# for i in range (0,162):\n",
        "#   df.loc[i,\"trial\"]=gpt_correction(df.loc[i,\"Prediction\"])\n",
        "# df.head()"
      ]
    },
    {
      "cell_type": "code",
      "execution_count": 14,
      "metadata": {
        "colab": {
          "base_uri": "https://localhost:8080/"
        },
        "id": "Q5yqa-zw2hG9",
        "outputId": "30912764-a1ed-4c61-9334-43993fce74c1"
      },
      "outputs": [
        {
          "name": "stdout",
          "output_type": "stream",
          "text": [
            "['Letters, Orders, and Instructions. December 1755.', 'To go to a place where I am to be commanded.', 'and directed by another, who can have no', 'other pretense, than that of having a Commission', '    Decision from the voting.', 'e shall suffer greatly in a little while.', 'Time, for want of clothing for the soldiers; and none.', 'Can be had here, nor in short, they believe in the', 'Country. Those which Carlyle and Dalton conjoined.', '    Contracted to furnish, we are disappointed in; one']\n"
          ]
        }
      ],
      "source": [
        "#Removing \\n from trial column and transfering to a list\n",
        "a_list = []\n",
        "for i in range(0,162):\n",
        "  s = df.loc[i, \"trial\"]\n",
        "  a = s[1:]\n",
        "  a_list.append(a)\n",
        "print(a_list[0:10])"
      ]
    },
    {
      "cell_type": "code",
      "execution_count": 16,
      "metadata": {
        "colab": {
          "base_uri": "https://localhost:8080/"
        },
        "id": "p_stn39yNOb7",
        "outputId": "9a5a4101-e022-45fd-e628-c4167bfb05e0"
      },
      "outputs": [
        {
          "name": "stdout",
          "output_type": "stream",
          "text": [
            "['Letters, Orders, and Instructions. December 1755.', 'To go to a place where I am to be commanded.', 'and directed by another, who can have no', 'other pretense, than that of having a Commission', '    Decision from the voting.', 'e shall suffer greatly in a little while.', 'Time, for want of clothing for the soldiers; and none.', 'Can be had here, nor in short, they believe in the', 'Country. Those which Carlyle and Dalton conjoined.']\n",
            "['p.305', 'Letters Orders and Instructions. December 1755.', 'to go to a place where I am to be commanded', 'and directed by another, who can have no', 'other pretence, than that of having a commis-', 'sion from the King.', 'We shall suffer very greatly in a little', 'time, for want of Clothing for the Soldiers; and none', 'can be had here, nor in short, I believe in the']\n",
            "['h. ger.', 'Letters Orders and Instructions. December 1755.', 'to go to a place where I am to be commanded', 'and directed by andther, who can have no', 'other pretence, than th at of having a Commis', 'sion from the Wing.', 'We shall suffer very greatly in a Little', 'time, for want of Closhing for the Soldier; and none', 'can be had here, nor in Short, S believe in the']\n"
          ]
        }
      ],
      "source": [
        "print(a_list[0:9])\n",
        "print(ground_truth[0:9])\n",
        "print(predicts[0:9])"
      ]
    },
    {
      "cell_type": "code",
      "execution_count": 17,
      "metadata": {
        "colab": {
          "base_uri": "https://localhost:8080/",
          "height": 36
        },
        "id": "WCigFy9sR6xu",
        "outputId": "ce4c86d2-ea72-45dc-bd35-70d8455f7956"
      },
      "outputs": [
        {
          "data": {
            "application/vnd.google.colaboratory.intrinsic+json": {
              "type": "string"
            },
            "text/plain": [
              "'h. ger.'"
            ]
          },
          "execution_count": 17,
          "metadata": {},
          "output_type": "execute_result"
        }
      ],
      "source": [
        "#Removing extra element\n",
        "ground_truth.pop(0)\n",
        "predicts.pop(0)"
      ]
    },
    {
      "cell_type": "code",
      "execution_count": 18,
      "metadata": {
        "colab": {
          "base_uri": "https://localhost:8080/"
        },
        "id": "RLI8FvukSG-9",
        "outputId": "6f2c9749-8484-4002-a2a3-4c787113ebe9"
      },
      "outputs": [
        {
          "name": "stdout",
          "output_type": "stream",
          "text": [
            "['Letters, Orders, and Instructions. December 1755.', 'To go to a place where I am to be commanded.', 'and directed by another, who can have no', 'other pretense, than that of having a Commission', '    Decision from the voting.', 'e shall suffer greatly in a little while.', 'Time, for want of clothing for the soldiers; and none.', 'Can be had here, nor in short, they believe in the', 'Country. Those which Carlyle and Dalton conjoined.']\n",
            "['Letters Orders and Instructions. December 1755.', 'to go to a place where I am to be commanded', 'and directed by another, who can have no', 'other pretence, than that of having a commis-', 'sion from the King.', 'We shall suffer very greatly in a little', 'time, for want of Clothing for the Soldiers; and none', 'can be had here, nor in short, I believe in the', 'Country. Those which Carlyle and Dalton con-']\n",
            "['Letters Orders and Instructions. December 1755.', 'to go to a place where I am to be commanded', 'and directed by andther, who can have no', 'other pretence, than th at of having a Commis', 'sion from the Wing.', 'We shall suffer very greatly in a Little', 'time, for want of Closhing for the Soldier; and none', 'can be had here, nor in Short, S believe in the', 'Country. Those which Carlyle and Balton con-']\n"
          ]
        }
      ],
      "source": [
        "print(a_list[0:9])\n",
        "print(ground_truth[0:9])\n",
        "print(predicts[0:9])"
      ]
    },
    {
      "cell_type": "code",
      "execution_count": 20,
      "metadata": {
        "colab": {
          "base_uri": "https://localhost:8080/"
        },
        "id": "3EFoMkIo3cHs",
        "outputId": "56875c59-eecb-495e-ed42-38b9b1d1fee6"
      },
      "outputs": [
        {
          "name": "stdout",
          "output_type": "stream",
          "text": [
            "['Letters, Orders, and Instructions. December 1755.', 'To go to a place where I am to be commanded.', 'and directed by another, who can have no', 'other pretense, than that of having a Commission', 'Decision from the voting.', 'e shall suffer greatly in a little while.', 'Time, for want of clothing for the soldiers; and none.', 'Can be had here, nor in short, they believe in the', 'Country. Those which Carlyle and Dalton conjoined.']\n"
          ]
        }
      ],
      "source": [
        "#Removing whitespace\n",
        "copy = a_list\n",
        "strip_list = []\n",
        "for i in copy:\n",
        "  i = i.strip()\n",
        "  strip_list.append(i)\n",
        "print(strip_list[0:9])\n"
      ]
    },
    {
      "cell_type": "code",
      "execution_count": 26,
      "metadata": {
        "colab": {
          "base_uri": "https://localhost:8080/"
        },
        "id": "GMTyTr70M_oj",
        "outputId": "8693bd58-bbb2-4359-8661-f6c963ca46e3"
      },
      "outputs": [
        {
          "name": "stdout",
          "output_type": "stream",
          "text": [
            "Total test images:    163\n",
            "Total time:           0:00:56.017331\n",
            "Time per item:        0:00:00.343665\n",
            "\n",
            "Metrics:\n",
            "Character Error Rate: 0.07621192\n",
            "Word Error Rate:      0.25389120\n",
            "Sequence Error Rate:  0.79629630\n"
          ]
        }
      ],
      "source": [
        "#Without GPT post-processing metrics\n",
        "\n",
        "\n",
        "from data import evaluation\n",
        "\n",
        "evaluate = evaluation.ocr_metrics(predicts, ground_truth, norm_accentuation=True, norm_punctuation=True)\n",
        "\n",
        "e_corpus = \"\\n\".join([\n",
        "    f\"Total test images:    {dtgen.size['test']}\",\n",
        "    f\"Total time:           {total_time}\",\n",
        "    f\"Time per item:        {total_time / dtgen.size['test']}\\n\",\n",
        "    f\"Metrics:\",\n",
        "    f\"Character Error Rate: {evaluate[0]:.8f}\",\n",
        "    f\"Word Error Rate:      {evaluate[1]:.8f}\",\n",
        "    f\"Sequence Error Rate:  {evaluate[2]:.8f}\"\n",
        "])\n",
        "print(e_corpus)"
      ]
    },
    {
      "cell_type": "code",
      "execution_count": 24,
      "metadata": {
        "colab": {
          "base_uri": "https://localhost:8080/"
        },
        "id": "Tr-cvb2l9l_T",
        "outputId": "f26aaec6-b36b-4e3d-bbcb-43f20ef243af"
      },
      "outputs": [
        {
          "name": "stdout",
          "output_type": "stream",
          "text": [
            "Total test images:    163\n",
            "Total time:           0:00:56.017331\n",
            "Time per item:        0:00:00.343665\n",
            "\n",
            "Metrics:\n",
            "Character Error Rate: 0.13246714\n",
            "Word Error Rate:      0.23588598\n",
            "Sequence Error Rate:  0.82716049\n"
          ]
        }
      ],
      "source": [
        "#With GPT post-processing metrics\n",
        "\n",
        "from data import evaluation\n",
        "\n",
        "evaluate = evaluation.ocr_metrics(strip_list, ground_truth, norm_accentuation=True, norm_punctuation=True)\n",
        "\n",
        "e_corpus = \"\\n\".join([\n",
        "    f\"Total test images:    {dtgen.size['test']}\",\n",
        "    f\"Total time:           {total_time}\",\n",
        "    f\"Time per item:        {total_time / dtgen.size['test']}\\n\",\n",
        "    f\"Metrics:\",\n",
        "    f\"Character Error Rate: {evaluate[0]:.8f}\",\n",
        "    f\"Word Error Rate:      {evaluate[1]:.8f}\",\n",
        "    f\"Sequence Error Rate:  {evaluate[2]:.8f}\"\n",
        "])\n",
        "print(e_corpus)\n",
        "\n"
      ]
    }
  ],
  "metadata": {
    "accelerator": "GPU",
    "colab": {
      "provenance": []
    },
    "gpuClass": "standard",
    "kernelspec": {
      "display_name": "Python 3",
      "name": "python3"
    },
    "language_info": {
      "name": "python"
    }
  },
  "nbformat": 4,
  "nbformat_minor": 0
}
